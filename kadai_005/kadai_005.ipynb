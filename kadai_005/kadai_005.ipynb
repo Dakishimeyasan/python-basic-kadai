{
 "cells": [
  {
   "cell_type": "code",
   "execution_count": null,
   "metadata": {
    "colab": {
     "base_uri": "https://localhost:8080/"
    },
    "executionInfo": {
     "elapsed": 18,
     "status": "ok",
     "timestamp": 1750395257280,
     "user": {
      "displayName": "田中秀樹",
      "userId": "14484985407873467386"
     },
     "user_tz": -540
    },
    "id": "-Vn0ek9tr9dS",
    "outputId": "0ed8b66b-4146-4148-976b-b6cb4477f019"
   },
   "outputs": [
    {
     "name": "stdout",
     "output_type": "stream",
     "text": [
      "75.0cm2\n"
     ]
    }
   ],
   "source": [
    "johen = 10\n",
    "kahen = 20\n",
    "takasa = 5\n",
    "\n",
    "daikei_menseki = (johen + kahen)* takasa /2\n",
    "print(str(daikei_menseki) + \"cm²\")"
   ]
  }
 ],
 "metadata": {
  "colab": {
   "authorship_tag": "ABX9TyPp1c+qiqNPMKcIPOSgl/ra",
   "provenance": []
  },
  "kernelspec": {
   "display_name": "Python 3",
   "name": "python3"
  },
  "language_info": {
   "name": "python"
  }
 },
 "nbformat": 4,
 "nbformat_minor": 0
}
